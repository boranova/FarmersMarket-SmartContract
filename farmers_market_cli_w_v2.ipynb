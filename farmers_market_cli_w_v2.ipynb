{
 "cells": [
  {
   "cell_type": "code",
   "execution_count": 1,
   "metadata": {},
   "outputs": [],
   "source": [
    "import json\n",
    "import os\n",
    "import requests\n",
    "from dotenv import load_dotenv\n",
    "from pathlib import Path\n",
    "#from web3.auto import w3\n",
    "from web3 import Web3, HTTPProvider"
   ]
  },
  {
   "cell_type": "code",
   "execution_count": 2,
   "metadata": {},
   "outputs": [
    {
     "data": {
      "text/plain": [
       "True"
      ]
     },
     "execution_count": 2,
     "metadata": {},
     "output_type": "execute_result"
    }
   ],
   "source": [
    "load_dotenv()"
   ]
  },
  {
   "cell_type": "code",
   "execution_count": null,
   "metadata": {},
   "outputs": [],
   "source": [
    "# create a web3.py instance w3 by connecting to the local Ethereum node\n",
    "w3 = Web3(HTTPProvider(\"http://localhost:8545\"))\n",
    "\n",
    "print(w3.isConnected())\n",
    "\n",
    "# Initialize a local account object from the private key of a valid Ethereum node address\n",
    "local_acct = w3.eth.account.from_key(os.getenv(\"ACCT_PRIVATE_KEY\"))\n",
    "\n",
    "# compile your smart contract first, then copy the whole 'FarmsMarket.json' file\n",
    "truffleFile = json.load(open('FarmersMarket.json'))\n",
    "abi = truffleFile['abi']\n",
    "bytecode = truffleFile['data']['bytecode']['object']\n",
    "\n",
    "# Initialize a contract object with the smart contract compiled artifacts\n",
    "contract = w3.eth.contract(bytecode=bytecode, abi=abi)\n",
    "\n",
    "# build a transaction by invoking the buildTransaction() method from the smart contract constructor function\n",
    "construct_txn = contract.constructor('FarmsMarket', 'FMD').buildTransaction({\n",
    "    'from': local_acct.address,\n",
    "    'nonce': w3.eth.getTransactionCount(local_acct.address),\n",
    "    'gas': 5000000,\n",
    "    'gasPrice': w3.toWei('21', 'gwei')})\n",
    "\n",
    "# sign the deployment transaction with the private key\n",
    "signed = w3.eth.account.sign_transaction(construct_txn, local_acct.key)\n",
    "\n",
    "# broadcast the signed transaction to your local network using sendRawTransaction() method and get the transaction hash\n",
    "tx_hash = w3.eth.sendRawTransaction(signed.rawTransaction)\n",
    "print(tx_hash.hex())\n",
    "\n",
    "# collect the Transaction Receipt with contract address when the transaction is mined on the network\n",
    "tx_receipt = w3.eth.waitForTransactionReceipt(tx_hash)\n",
    "print(\"Contract Deployed At:\", tx_receipt['contractAddress'])\n",
    "contract_address = tx_receipt['contractAddress']\n",
    "\n",
    "# Initialize a contract instance object using the contract address which can be used to invoke contract functions\n",
    "fm_contract = w3.eth.contract(abi=abi, address=contract_address)"
   ]
  },
  {
   "cell_type": "code",
   "execution_count": 4,
   "metadata": {},
   "outputs": [],
   "source": [
    "# env variables\n",
    "\n",
    "headers = {\n",
    "    \"Content-Type\": \"application/json\",\n",
    "    \"pinata_api_key\": os.getenv(\"PINATA_API_KEY\"),\n",
    "    \"pinata_secret_api_key\": os.getenv(\"PINATA_SECRET_API_KEY\"),\n",
    "}\n",
    "\n",
    "def convertDataToJSON(content):\n",
    "    data = {\"pinataOptions\": {\"cidVersion\": 1}, \"pinataContent\": content}\n",
    "    return json.dumps(data)\n",
    "\n",
    "def pinJSONtoIPFS(json):\n",
    "    r = requests.post(\n",
    "        \"https://api.pinata.cloud/pinning/pinJSONToIPFS\",\n",
    "        data=json,headers=headers\n",
    "    )\n",
    "    ipfs_hash = r.json()[\"IpfsHash\"]\n",
    "    return ipfs_hash\n"
   ]
  },
  {
   "cell_type": "code",
   "execution_count": 5,
   "metadata": {},
   "outputs": [],
   "source": [
    "# 1. registerVendor\n",
    "#\n",
    "#    struct vendor {\n",
    "#        string URI;\n",
    "#        address _address;\n",
    "#    }\n",
    "def vendor_info():\n",
    "    name = input(\"Enter the Name: \")\n",
    "    phone = input(\"Enter a Contact Phone: \")\n",
    "    \n",
    "    vendor_object = {\n",
    "            \"name\": name,\n",
    "            \"phone\": phone,\n",
    "    }\n",
    "\n",
    "    return vendor_object\n",
    "\n",
    "# registerVendor(address vendorAddress, string memory vendorURI) \n",
    "# public returns(uint)\n",
    "\n",
    "def register_vendor(vendor_address:str):\n",
    "\n",
    "    # use contact_info to create URI using pinata API\n",
    "    vendor_object = vendor_info()\n",
    "    data = convertDataToJSON(vendor_object)\n",
    "    ipfs_link = pinJSONtoIPFS(data)\n",
    "\n",
    "    # call contract to create new owner\n",
    "    tx_hash = fm_contract.functions.registerVendor(\n",
    "        vendor_address, ipfs_link)\\\n",
    "        .transact({\"from\": w3.eth.accounts[0]})\n",
    "\n",
    "    receipt = w3.eth.waitForTransactionReceipt(tx_hash)\n",
    "    return receipt"
   ]
  },
  {
   "cell_type": "code",
   "execution_count": 6,
   "metadata": {},
   "outputs": [],
   "source": [
    "# 2. registerProduct\n",
    "#\n",
    "# registerProduct (string memory _type, uint vendorID, \n",
    "#                 string memory URI, uint quantity, uint price) \n",
    "#    public returns(uint)\n",
    "\n",
    "def register_product(product_type:str, \n",
    "                     vendorID:int,  \n",
    "                     quantity:int, \n",
    "                     price:int):\n",
    "\n",
    "    # use product_info to create URI using pinata API\n",
    "    product_object = {\n",
    "            \"product_type\": product_type,\n",
    "            \"vendorID\": vendorID,\n",
    "            \"quantity\": quantity,\n",
    "            \"price\": price,\n",
    "    }\n",
    "    data = convertDataToJSON(product_object)\n",
    "    ipfs_link = pinJSONtoIPFS(data)\n",
    "\n",
    "    # call contract to create new owner\n",
    "    tx_hash = fm_contract.functions.registerProduct(\n",
    "        product_type,\n",
    "        vendorID,\n",
    "        ipfs_link,\n",
    "        quantity,\n",
    "        price)\\\n",
    "        .transact({\"from\": w3.eth.accounts[0]})\n",
    "\n",
    "    receipt = w3.eth.waitForTransactionReceipt(tx_hash)\n",
    "    return receipt"
   ]
  },
  {
   "cell_type": "code",
   "execution_count": 7,
   "metadata": {},
   "outputs": [],
   "source": [
    "# 3. updateProduct"
   ]
  },
  {
   "cell_type": "code",
   "execution_count": 8,
   "metadata": {},
   "outputs": [],
   "source": [
    "# 4. removeProduct"
   ]
  },
  {
   "cell_type": "code",
   "execution_count": 9,
   "metadata": {},
   "outputs": [],
   "source": [
    "# 5. removeVendor"
   ]
  },
  {
   "cell_type": "code",
   "execution_count": 10,
   "metadata": {},
   "outputs": [],
   "source": [
    "# 6. makePurchase"
   ]
  },
  {
   "cell_type": "code",
   "execution_count": 11,
   "metadata": {},
   "outputs": [],
   "source": [
    "# 7. updateProductHistory"
   ]
  },
  {
   "cell_type": "code",
   "execution_count": 12,
   "metadata": {},
   "outputs": [],
   "source": [
    "# 8. returnPurchase"
   ]
  },
  {
   "cell_type": "code",
   "execution_count": 13,
   "metadata": {},
   "outputs": [],
   "source": [
    "# view funtions for testing\n",
    "def getLatestVendor():\n",
    "    ipfs_hash = fm_contract.functions.getLatestVendor().call()\n",
    "    message = requests.get(f\"https://cloudflare-ipfs.com/ipfs/{ipfs_hash}\")\n",
    "    return message.json()\n",
    "\n",
    "def getVendorByID(vendor_id):\n",
    "    ipfs_hash = fm_contract.functions.vendors(vendor_id).call()[0]\n",
    "    message = requests.get(f\"https://cloudflare-ipfs.com/ipfs/{ipfs_hash}\")\n",
    "    return message.json()"
   ]
  },
  {
   "cell_type": "code",
   "execution_count": 18,
   "metadata": {},
   "outputs": [
    {
     "name": "stdin",
     "output_type": "stream",
     "text": [
      "Would you like to: 1. add a vendor 2. get a vendor 3. add a product 4. get a product? 4\n",
      "Enter a product ID to retive the product. Hit enter to get the latest. \n"
     ]
    },
    {
     "name": "stdout",
     "output_type": "stream",
     "text": [
      "{'product_type': 'apple', 'vendorID': 1, 'quantity': 100, 'price': 5}\n"
     ]
    }
   ],
   "source": [
    "## testing\n",
    "\n",
    "vendor_count = 0;\n",
    "product_count = 0;\n",
    "\n",
    "option = input(\"Would you like to: 1. add a vendor 2. get a vendor 3. add a product 4. get a product?\")\n",
    "\n",
    "if option == \"1\":\n",
    "    vendor_address = \"0x8ae3f5d6d85cEE8E7F6e41Bad033fDF0e6239322\"\n",
    "    receipt = register_vendor(vendor_address)\n",
    "    vendor_count += 1\n",
    "\n",
    "if option == \"2\":\n",
    "    vendor_id = input(\"Enter a vendor ID to retive the vendor. Hit enter to get the latest.\")\n",
    "\n",
    "    if (vendor_id):\n",
    "        print(getVendorByID(int(vendor_id)))\n",
    "    else:\n",
    "        print(getLatestVendor())\n",
    "\n",
    "if option == \"3\":\n",
    "    product_type = input(\"Enter the product type: \")\n",
    "    vendorID = input(\"Enter the vendor ID: \")\n",
    "    quantity = input(\"Enter the pruduct quantity: \")\n",
    "    price = input(\"Enter the pruduct price:\")\n",
    "  \n",
    "    receipt = register_product(product_type, \n",
    "                               int(vendorID), \n",
    "                               int(quantity), \n",
    "                               int(price))\n",
    "    product_count += 1\n",
    "    \n",
    "if option == \"4\":\n",
    "    product_id = input(\"Enter a product ID to retive the product. Hit enter to get the latest.\")\n",
    "    if (product_id):\n",
    "        ipfs_hash = fm_contract.functions.products(int(product_id)).call()[2]\n",
    "    else:\n",
    "        ipfs_hash = fm_contract.functions.products(1).call()[2]\n",
    "    message = requests.get(f\"https://cloudflare-ipfs.com/ipfs/{ipfs_hash}\")\n",
    "    print(message.json())   "
   ]
  },
  {
   "cell_type": "code",
   "execution_count": null,
   "metadata": {},
   "outputs": [],
   "source": []
  }
 ],
 "metadata": {
  "kernelspec": {
   "display_name": "Python 3",
   "language": "python",
   "name": "python3"
  },
  "language_info": {
   "codemirror_mode": {
    "name": "ipython",
    "version": 3
   },
   "file_extension": ".py",
   "mimetype": "text/x-python",
   "name": "python",
   "nbconvert_exporter": "python",
   "pygments_lexer": "ipython3",
   "version": "3.7.7"
  }
 },
 "nbformat": 4,
 "nbformat_minor": 4
}
