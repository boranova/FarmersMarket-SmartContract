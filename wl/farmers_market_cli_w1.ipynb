{
 "cells": [
  {
   "cell_type": "code",
   "execution_count": 1,
   "metadata": {},
   "outputs": [],
   "source": [
    "#import sys\n",
    "#from dotenv import load_dotenv\n",
    "import requests\n",
    "from crypto import (\n",
    "    convertDataToJSON, \n",
    "    pinJSONtoIPFS, \n",
    "    initContract, \n",
    "    w3,\n",
    ")"
   ]
  },
  {
   "cell_type": "code",
   "execution_count": 2,
   "metadata": {},
   "outputs": [],
   "source": [
    "#import os\n",
    "#from dotenv import load_dotenv\n",
    "#load_dotenv()\n",
    "#os.getenv(\"PINATA_API_KEY\")\n",
    "#os.getenv(\"PINATA_SECRET_API_KEY\")"
   ]
  },
  {
   "cell_type": "code",
   "execution_count": 3,
   "metadata": {},
   "outputs": [],
   "source": [
    "contract_address = \"0x6c09860051F3958c4Bf3D02e2B05e13862D314D7\"\n",
    "abi_file = \"FarmsMarket.json\""
   ]
  },
  {
   "cell_type": "code",
   "execution_count": 4,
   "metadata": {
    "scrolled": true
   },
   "outputs": [
    {
     "name": "stdout",
     "output_type": "stream",
     "text": [
      "Contract Address 0x6c09860051F3958c4Bf3D02e2B05e13862D314D7\n"
     ]
    }
   ],
   "source": [
    "fm_contract = initContract(contract_address, abi_file)"
   ]
  },
  {
   "cell_type": "code",
   "execution_count": 5,
   "metadata": {},
   "outputs": [],
   "source": [
    "# updateProduct(uint productID, string memory _type, uint vendorID, string memory URI, uint quantity, uint price) \n",
    "#    public returns(uint)\n",
    "# function removeProduct(uint productID) public returns(uint)\n",
    "# function makePurchase(uint purchaseDate, uint deliveryDate, uint vendorID, uint productID, uint quantity) \n",
    "#    public returns(uint)"
   ]
  },
  {
   "cell_type": "code",
   "execution_count": 6,
   "metadata": {},
   "outputs": [],
   "source": [
    "#    struct vendor {\n",
    "#        string URI;\n",
    "#        address _address;\n",
    "#    }\n",
    "def vendor_info():\n",
    "    name = input(\"Enter the Name: \")\n",
    "    phone = input(\"Enter a Contact Phone: \")\n",
    "    \n",
    "    vendor_object = {\n",
    "            \"name\": name,\n",
    "            \"phone\": phone,\n",
    "    }\n",
    "\n",
    "    return vendor_object\n",
    "\n",
    "# registerVendor(address vendorAddress, string memory vendorURI) \n",
    "# public returns(uint)\n",
    "\n",
    "def register_vendor(vendor_address:str):\n",
    "\n",
    "    # use contact_info to create URI using pinata API\n",
    "    vendor_object = vendor_info()\n",
    "    data = convertDataToJSON(vendor_object)\n",
    "    ipfs_link = pinJSONtoIPFS(data)\n",
    "\n",
    "    # call contract to create new owner\n",
    "    tx_hash = fm_contract.functions.registerVendor(\n",
    "        vendor_address, ipfs_link)\\\n",
    "        .transact({\"from\": w3.eth.accounts[0]})\n",
    "\n",
    "    receipt = w3.eth.waitForTransactionReceipt(tx_hash)\n",
    "    return receipt"
   ]
  },
  {
   "cell_type": "code",
   "execution_count": 7,
   "metadata": {},
   "outputs": [],
   "source": [
    "#    struct product {\n",
    "#        string _type;\n",
    "#        uint vendorID;\n",
    "#        string URI; \n",
    "#        uint quantity;\n",
    "#        uint price;\n",
    "#    }\n",
    "\n",
    "def createProduct():\n",
    "    _type = input(\"Enter the product type: \")\n",
    "    quantity = input(\"Enter the pruduct quantity: \")\n",
    "    price = input(\"Enter the pruduct price:\")\n",
    "    \n",
    "    product_object = {\n",
    "            \"_type\": _type,\n",
    "            \"quantity\": quantity,\n",
    "            \"price\": price,\n",
    "    }\n",
    "\n",
    "    return product_object\n",
    "\n",
    "# registerProduct (string memory _type, uint vendorID, \n",
    "#                 string memory URI, uint quantity, uint price) \n",
    "#    public returns(uint)\n",
    "\n",
    "def register_product(product_info: dict, vendor_address:str):\n",
    "\n",
    "    # use product_info to create URI using pinata API\n",
    "    data = convertDataToJSON(product_info)\n",
    "    ipfs_link = pinJSONtoIPFS(data)\n",
    "\n",
    "    # call contract to create new owner\n",
    "    tx_hash = fm_contract.functions.registerProduct(\n",
    "        vendor_address, ipfs_link)\\\n",
    "        .transact({\"from\": w3.eth.accounts[0]})\n",
    "\n",
    "    receipt = w3.eth.waitForTransactionReceipt(tx_hash)\n",
    "    return receipt"
   ]
  },
  {
   "cell_type": "code",
   "execution_count": 12,
   "metadata": {},
   "outputs": [],
   "source": [
    "def getLatestVendor():\n",
    "    ipfs_hash = fm_contract.functions.getLatestVendor().call()\n",
    "    message = requests.get(f\"https://cloudflare-ipfs.com/ipfs/{ipfs_hash}\")\n",
    "    return message.json()"
   ]
  },
  {
   "cell_type": "code",
   "execution_count": 13,
   "metadata": {},
   "outputs": [],
   "source": [
    "def getVendorByID(vendor_id):\n",
    "    ipfs_hash = fm_contract.functions.vendors(vendor_id).call()\n",
    "    message = requests.get(f\"https://cloudflare-ipfs.com/ipfs/{ipfs_hash}\")\n",
    "    return message.json()"
   ]
  },
  {
   "cell_type": "code",
   "execution_count": 11,
   "metadata": {},
   "outputs": [
    {
     "name": "stdin",
     "output_type": "stream",
     "text": [
      "Would you like to get or add a vendor? get\n",
      "Enter a vendor ID to retive the vendor. Hit enter to get the latest. \n"
     ]
    },
    {
     "ename": "NameError",
     "evalue": "name 'smart_contract' is not defined",
     "output_type": "error",
     "traceback": [
      "\u001b[0;31m---------------------------------------------------------------------------\u001b[0m",
      "\u001b[0;31mNameError\u001b[0m                                 Traceback (most recent call last)",
      "\u001b[0;32m<ipython-input-11-9a3c10998476>\u001b[0m in \u001b[0;36m<module>\u001b[0;34m\u001b[0m\n\u001b[1;32m     11\u001b[0m         \u001b[0mprint\u001b[0m\u001b[0;34m(\u001b[0m\u001b[0mgetVendorByID\u001b[0m\u001b[0;34m(\u001b[0m\u001b[0mint\u001b[0m\u001b[0;34m(\u001b[0m\u001b[0mvendor_id\u001b[0m\u001b[0;34m)\u001b[0m\u001b[0;34m)\u001b[0m\u001b[0;34m)\u001b[0m\u001b[0;34m\u001b[0m\u001b[0;34m\u001b[0m\u001b[0m\n\u001b[1;32m     12\u001b[0m     \u001b[0;32melse\u001b[0m\u001b[0;34m:\u001b[0m\u001b[0;34m\u001b[0m\u001b[0;34m\u001b[0m\u001b[0m\n\u001b[0;32m---> 13\u001b[0;31m         \u001b[0mprint\u001b[0m\u001b[0;34m(\u001b[0m\u001b[0mgetLatestVendor\u001b[0m\u001b[0;34m(\u001b[0m\u001b[0;34m)\u001b[0m\u001b[0;34m)\u001b[0m\u001b[0;34m\u001b[0m\u001b[0;34m\u001b[0m\u001b[0m\n\u001b[0m",
      "\u001b[0;32m<ipython-input-8-2781f264f99b>\u001b[0m in \u001b[0;36mgetLatestVendor\u001b[0;34m()\u001b[0m\n\u001b[1;32m      1\u001b[0m \u001b[0;32mdef\u001b[0m \u001b[0mgetLatestVendor\u001b[0m\u001b[0;34m(\u001b[0m\u001b[0;34m)\u001b[0m\u001b[0;34m:\u001b[0m\u001b[0;34m\u001b[0m\u001b[0;34m\u001b[0m\u001b[0m\n\u001b[0;32m----> 2\u001b[0;31m     \u001b[0mipfs_hash\u001b[0m \u001b[0;34m=\u001b[0m \u001b[0msmart_contract\u001b[0m\u001b[0;34m.\u001b[0m\u001b[0mfunctions\u001b[0m\u001b[0;34m.\u001b[0m\u001b[0mgetLatestVendor\u001b[0m\u001b[0;34m(\u001b[0m\u001b[0;34m)\u001b[0m\u001b[0;34m.\u001b[0m\u001b[0mcall\u001b[0m\u001b[0;34m(\u001b[0m\u001b[0;34m)\u001b[0m\u001b[0;34m\u001b[0m\u001b[0;34m\u001b[0m\u001b[0m\n\u001b[0m\u001b[1;32m      3\u001b[0m     \u001b[0mmessage\u001b[0m \u001b[0;34m=\u001b[0m \u001b[0mrequests\u001b[0m\u001b[0;34m.\u001b[0m\u001b[0mget\u001b[0m\u001b[0;34m(\u001b[0m\u001b[0;34mf\"https://cloudflare-ipfs.com/ipfs/{ipfs_hash}\"\u001b[0m\u001b[0;34m)\u001b[0m\u001b[0;34m\u001b[0m\u001b[0;34m\u001b[0m\u001b[0m\n\u001b[1;32m      4\u001b[0m     \u001b[0;32mreturn\u001b[0m \u001b[0mmessage\u001b[0m\u001b[0;34m.\u001b[0m\u001b[0mjson\u001b[0m\u001b[0;34m(\u001b[0m\u001b[0;34m)\u001b[0m\u001b[0;34m\u001b[0m\u001b[0;34m\u001b[0m\u001b[0m\n",
      "\u001b[0;31mNameError\u001b[0m: name 'smart_contract' is not defined"
     ]
    }
   ],
   "source": [
    "option = input(\"Would you like to get or add a vendor?\")\n",
    "\n",
    "if option == \"add\":\n",
    "    vendor_address = \"0x1178d2924a873C256B430b1751B43258d7BCE6CE\"\n",
    "    register_vendor(vendor_address)\n",
    "\n",
    "if option == \"get\":\n",
    "    vendor_id = input(\"Enter a vendor ID to retive the vendor. Hit enter to get the latest.\")\n",
    "\n",
    "    if (vendor_id):\n",
    "        print(getVendorByID(int(vendor_id)))\n",
    "    else:\n",
    "        print(getLatestVendor())"
   ]
  },
  {
   "cell_type": "code",
   "execution_count": null,
   "metadata": {},
   "outputs": [],
   "source": []
  }
 ],
 "metadata": {
  "kernelspec": {
   "display_name": "Python [conda env:ethereum] *",
   "language": "python",
   "name": "conda-env-ethereum-py"
  },
  "language_info": {
   "codemirror_mode": {
    "name": "ipython",
    "version": 3
   },
   "file_extension": ".py",
   "mimetype": "text/x-python",
   "name": "python",
   "nbconvert_exporter": "python",
   "pygments_lexer": "ipython3",
   "version": "3.7.7"
  }
 },
 "nbformat": 4,
 "nbformat_minor": 4
}
