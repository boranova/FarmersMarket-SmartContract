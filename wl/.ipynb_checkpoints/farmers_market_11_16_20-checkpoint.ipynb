{
 "cells": [
  {
   "cell_type": "code",
   "execution_count": 2,
   "metadata": {},
   "outputs": [
    {
     "name": "stdout",
     "output_type": "stream",
     "text": [
      "Collecting web3\n",
      "  Downloading web3-5.13.0-py3-none-any.whl (470 kB)\n",
      "Collecting eth-account<0.6.0,>=0.5.3\n",
      "  Using cached eth_account-0.5.4-py3-none-any.whl (94 kB)\n",
      "Requirement already satisfied: requests<3.0.0,>=2.16.0 in c:\\users\\cliu1\\anaconda3\\envs\\dev\\lib\\site-packages (from web3) (2.23.0)\n",
      "Collecting eth-hash[pycryptodome]<1.0.0,>=0.2.0\n",
      "  Using cached eth_hash-0.2.0-py3-none-any.whl (7.2 kB)\n",
      "Processing c:\\users\\cliu1\\appdata\\local\\pip\\cache\\wheels\\01\\a8\\08\\242afb3f48be064b2f2ef8e1ad115d43cde698fdd6f212f825\\lru_dict-1.1.6-cp37-cp37m-win_amd64.whl\n",
      "Requirement already satisfied: typing-extensions<4,>=3.7.4.1; python_version < \"3.8\" in c:\\users\\cliu1\\anaconda3\\envs\\dev\\lib\\site-packages (from web3) (3.7.4.3)\n",
      "Collecting eth-utils<2.0.0,>=1.9.5\n",
      "  Using cached eth_utils-1.9.5-py3-none-any.whl (23 kB)\n",
      "Requirement already satisfied: websockets<9.0.0,>=8.1.0 in c:\\users\\cliu1\\anaconda3\\envs\\dev\\lib\\site-packages (from web3) (8.1)\n",
      "Collecting pypiwin32>=223; platform_system == \"Windows\"\n",
      "  Using cached pypiwin32-223-py3-none-any.whl (1.7 kB)\n",
      "Collecting eth-typing<3.0.0,>=2.0.0\n",
      "  Using cached eth_typing-2.2.2-py3-none-any.whl (6.2 kB)\n",
      "Requirement already satisfied: jsonschema<4.0.0,>=3.2.0 in c:\\users\\cliu1\\anaconda3\\envs\\dev\\lib\\site-packages (from web3) (3.2.0)\n",
      "Collecting ipfshttpclient==0.7.0a1\n",
      "  Downloading ipfshttpclient-0.7.0a1-py3-none-any.whl (231 kB)\n",
      "Collecting hexbytes<1.0.0,>=0.1.0\n",
      "  Using cached hexbytes-0.2.1-py3-none-any.whl (6.0 kB)\n",
      "Collecting eth-abi<3.0.0,>=2.0.0b6\n",
      "  Using cached eth_abi-2.1.1-py3-none-any.whl (27 kB)\n",
      "Requirement already satisfied: protobuf<4,>=3.10.0 in c:\\users\\cliu1\\anaconda3\\envs\\dev\\lib\\site-packages (from web3) (3.13.0)\n",
      "Collecting eth-keys!=0.3.2,<0.4.0,>=0.2.1\n",
      "  Using cached eth_keys-0.3.3-py3-none-any.whl (20 kB)\n",
      "Collecting eth-rlp<2,>=0.1.2\n",
      "  Using cached eth_rlp-0.2.1-py3-none-any.whl (5.0 kB)\n",
      "Collecting rlp<3,>=1.0.0\n",
      "  Using cached rlp-2.0.0-py2.py3-none-any.whl (20 kB)\n",
      "Collecting bitarray<1.3.0,>=1.2.1\n",
      "  Using cached bitarray-1.2.2.tar.gz (48 kB)\n",
      "Collecting eth-keyfile<0.6.0,>=0.5.0\n",
      "  Using cached eth_keyfile-0.5.1-py3-none-any.whl (8.3 kB)\n",
      "Requirement already satisfied: idna<3,>=2.5 in c:\\users\\cliu1\\anaconda3\\envs\\dev\\lib\\site-packages (from requests<3.0.0,>=2.16.0->web3) (2.9)\n",
      "Requirement already satisfied: chardet<4,>=3.0.2 in c:\\users\\cliu1\\anaconda3\\envs\\dev\\lib\\site-packages (from requests<3.0.0,>=2.16.0->web3) (3.0.4)\n",
      "Requirement already satisfied: certifi>=2017.4.17 in c:\\users\\cliu1\\anaconda3\\envs\\dev\\lib\\site-packages (from requests<3.0.0,>=2.16.0->web3) (2020.4.5.2)\n",
      "Requirement already satisfied: urllib3!=1.25.0,!=1.25.1,<1.26,>=1.21.1 in c:\\users\\cliu1\\anaconda3\\envs\\dev\\lib\\site-packages (from requests<3.0.0,>=2.16.0->web3) (1.24.3)\n",
      "Collecting pycryptodome<4,>=3.6.6; extra == \"pycryptodome\"\n",
      "  Downloading pycryptodome-3.9.9-cp37-cp37m-win_amd64.whl (14.1 MB)\n",
      "Collecting cytoolz<1.0.0,>=0.10.1; implementation_name == \"cpython\"\n",
      "  Downloading cytoolz-0.11.0.tar.gz (477 kB)\n",
      "Requirement already satisfied: pywin32>=223 in c:\\users\\cliu1\\anaconda3\\envs\\dev\\lib\\site-packages (from pypiwin32>=223; platform_system == \"Windows\"->web3) (227)\n",
      "Requirement already satisfied: pyrsistent>=0.14.0 in c:\\users\\cliu1\\anaconda3\\envs\\dev\\lib\\site-packages (from jsonschema<4.0.0,>=3.2.0->web3) (0.16.0)\n",
      "Requirement already satisfied: attrs>=17.4.0 in c:\\users\\cliu1\\anaconda3\\envs\\dev\\lib\\site-packages (from jsonschema<4.0.0,>=3.2.0->web3) (19.3.0)\n",
      "Requirement already satisfied: importlib-metadata; python_version < \"3.8\" in c:\\users\\cliu1\\anaconda3\\envs\\dev\\lib\\site-packages (from jsonschema<4.0.0,>=3.2.0->web3) (1.6.1)\n",
      "Requirement already satisfied: setuptools in c:\\users\\cliu1\\anaconda3\\envs\\dev\\lib\\site-packages (from jsonschema<4.0.0,>=3.2.0->web3) (47.1.1.post20200604)\n",
      "Requirement already satisfied: six>=1.11.0 in c:\\users\\cliu1\\anaconda3\\envs\\dev\\lib\\site-packages (from jsonschema<4.0.0,>=3.2.0->web3) (1.15.0)\n",
      "Collecting multiaddr>=0.0.7\n",
      "  Using cached multiaddr-0.0.9-py2.py3-none-any.whl (16 kB)\n",
      "Processing c:\\users\\cliu1\\appdata\\local\\pip\\cache\\wheels\\88\\5d\\ba\\f27d8af07306b65ee44f9d3f9cadea1db749a421a6db8a99bf\\parsimonious-0.8.1-py3-none-any.whl\n",
      "Collecting toolz>=0.8.0\n",
      "  Downloading toolz-0.11.1-py3-none-any.whl (55 kB)\n",
      "Requirement already satisfied: zipp>=0.5 in c:\\users\\cliu1\\anaconda3\\envs\\dev\\lib\\site-packages (from importlib-metadata; python_version < \"3.8\"->jsonschema<4.0.0,>=3.2.0->web3) (3.1.0)\n",
      "Collecting base58\n",
      "  Using cached base58-2.0.1-py3-none-any.whl (4.3 kB)\n",
      "Processing c:\\users\\cliu1\\appdata\\local\\pip\\cache\\wheels\\69\\21\\07\\09f1c6a7d9b59377aa6d98da6efdd670f7ca40aabd93d02704\\varint-1.0.2-py3-none-any.whl\n",
      "Collecting netaddr\n",
      "  Using cached netaddr-0.8.0-py2.py3-none-any.whl (1.9 MB)\n",
      "Building wheels for collected packages: bitarray, cytoolz\n",
      "  Building wheel for bitarray (setup.py): started\n",
      "  Building wheel for bitarray (setup.py): finished with status 'done'\n",
      "  Created wheel for bitarray: filename=bitarray-1.2.2-cp37-cp37m-win_amd64.whl size=55383 sha256=118f77ebe159db5da5657b5c4eead46de20b833c52410c4a986e9a134dd77dfb\n",
      "  Stored in directory: c:\\users\\cliu1\\appdata\\local\\pip\\cache\\wheels\\91\\c8\\a0\\4fb7317b7072d4b6a4366454e5bf229ff5bb9ba1f7de8ef90d\n",
      "  Building wheel for cytoolz (setup.py): started\n",
      "  Building wheel for cytoolz (setup.py): finished with status 'done'\n",
      "  Created wheel for cytoolz: filename=cytoolz-0.11.0-cp37-cp37m-win_amd64.whl size=358192 sha256=89218f3a49940e1f2e8ec3493b0ec0720f843541d14c51a59dad3e16f0a7bf57\n",
      "  Stored in directory: c:\\users\\cliu1\\appdata\\local\\pip\\cache\\wheels\\a1\\aa\\85\\7dc0547cad8c535a1c4e55c638f6e2d3de45401dd634bff0a2\n",
      "Successfully built bitarray cytoolz\n",
      "Installing collected packages: pycryptodome, eth-hash, toolz, cytoolz, eth-typing, eth-utils, eth-keys, parsimonious, eth-abi, hexbytes, rlp, eth-rlp, bitarray, eth-keyfile, eth-account, lru-dict, pypiwin32, base58, varint, netaddr, multiaddr, ipfshttpclient, web3\n",
      "Successfully installed base58-2.0.1 bitarray-1.2.2 cytoolz-0.11.0 eth-abi-2.1.1 eth-account-0.5.4 eth-hash-0.2.0 eth-keyfile-0.5.1 eth-keys-0.3.3 eth-rlp-0.2.1 eth-typing-2.2.2 eth-utils-1.9.5 hexbytes-0.2.1 ipfshttpclient-0.7.0a1 lru-dict-1.1.6 multiaddr-0.0.9 netaddr-0.8.0 parsimonious-0.8.1 pycryptodome-3.9.9 pypiwin32-223 rlp-2.0.0 toolz-0.11.1 varint-1.0.2 web3-5.13.0\n"
     ]
    }
   ],
   "source": [
    "!pip install web3"
   ]
  },
  {
   "cell_type": "code",
   "execution_count": 3,
   "metadata": {},
   "outputs": [
    {
     "name": "stderr",
     "output_type": "stream",
     "text": [
      "Consider installing rusty-rlp to improve pyrlp performance with a rust based backend\n"
     ]
    }
   ],
   "source": [
    "#import sys\n",
    "#from dotenv import load_dotenv\n",
    "import requests\n",
    "from crypto import (\n",
    "    convertDataToJSON, \n",
    "    pinJSONtoIPFS, \n",
    "    initContract, \n",
    "    w3,\n",
    ")"
   ]
  },
  {
   "cell_type": "code",
   "execution_count": 2,
   "metadata": {},
   "outputs": [],
   "source": [
    "#import os\n",
    "#from dotenv import load_dotenv\n",
    "#load_dotenv()\n",
    "#os.getenv(\"PINATA_API_KEY\")\n",
    "#os.getenv(\"PINATA_SECRET_API_KEY\")"
   ]
  },
  {
   "cell_type": "code",
   "execution_count": 3,
   "metadata": {},
   "outputs": [],
   "source": [
    "contract_address = \"0x6c09860051F3958c4Bf3D02e2B05e13862D314D7\"\n",
    "abi_file = \"FarmsMarket.json\""
   ]
  },
  {
   "cell_type": "code",
   "execution_count": 4,
   "metadata": {
    "scrolled": true
   },
   "outputs": [
    {
     "name": "stdout",
     "output_type": "stream",
     "text": [
      "Contract Address 0x6c09860051F3958c4Bf3D02e2B05e13862D314D7\n"
     ]
    }
   ],
   "source": [
    "fm_contract = initContract(contract_address, abi_file)"
   ]
  },
  {
   "cell_type": "code",
   "execution_count": 5,
   "metadata": {},
   "outputs": [],
   "source": [
    "# updateProduct(uint productID, string memory _type, uint vendorID, string memory URI, uint quantity, uint price) \n",
    "#    public returns(uint)\n",
    "# function removeProduct(uint productID) public returns(uint)\n",
    "# function makePurchase(uint purchaseDate, uint deliveryDate, uint vendorID, uint productID, uint quantity) \n",
    "#    public returns(uint)"
   ]
  },
  {
   "cell_type": "code",
   "execution_count": 6,
   "metadata": {},
   "outputs": [],
   "source": [
    "#    struct vendor {\n",
    "#        string URI;\n",
    "#        address _address;\n",
    "#    }\n",
    "def vendor_info():\n",
    "    name = input(\"Enter the Name: \")\n",
    "    phone = input(\"Enter a Contact Phone: \")\n",
    "    \n",
    "    vendor_object = {\n",
    "            \"name\": name,\n",
    "            \"phone\": phone,\n",
    "    }\n",
    "\n",
    "    return vendor_object\n",
    "\n",
    "# registerVendor(address vendorAddress, string memory vendorURI) \n",
    "# public returns(uint)\n",
    "\n",
    "def register_vendor(vendor_address:str):\n",
    "\n",
    "    # use contact_info to create URI using pinata API\n",
    "    vendor_object = vendor_info()\n",
    "    data = convertDataToJSON(vendor_object)\n",
    "    ipfs_link = pinJSONtoIPFS(data)\n",
    "\n",
    "    # call contract to create new owner\n",
    "    tx_hash = fm_contract.functions.registerVendor(\n",
    "        vendor_address, ipfs_link)\\\n",
    "        .transact({\"from\": w3.eth.accounts[0]})\n",
    "\n",
    "    receipt = w3.eth.waitForTransactionReceipt(tx_hash)\n",
    "    return receipt"
   ]
  },
  {
   "cell_type": "code",
   "execution_count": 7,
   "metadata": {},
   "outputs": [],
   "source": [
    "#    struct product {\n",
    "#        string _type;\n",
    "#        uint vendorID;\n",
    "#        string URI; \n",
    "#        uint quantity;\n",
    "#        uint price;\n",
    "#    }\n",
    "\n",
    "def createProduct():\n",
    "    _type = input(\"Enter the product type: \")\n",
    "    quantity = input(\"Enter the pruduct quantity: \")\n",
    "    price = input(\"Enter the pruduct price:\")\n",
    "    \n",
    "    product_object = {\n",
    "            \"_type\": _type,\n",
    "            \"quantity\": quantity,\n",
    "            \"price\": price,\n",
    "    }\n",
    "\n",
    "    return product_object\n",
    "\n",
    "# registerProduct (string memory _type, uint vendorID, \n",
    "#                 string memory URI, uint quantity, uint price) \n",
    "#    public returns(uint)\n",
    "\n",
    "def register_product(product_info: dict, vendor_address:str):\n",
    "\n",
    "    # use product_info to create URI using pinata API\n",
    "    data = convertDataToJSON(product_info)\n",
    "    ipfs_link = pinJSONtoIPFS(data)\n",
    "\n",
    "    # call contract to create new owner\n",
    "    tx_hash = fm_contract.functions.registerProduct(\n",
    "        vendor_address, ipfs_link)\\\n",
    "        .transact({\"from\": w3.eth.accounts[0]})\n",
    "\n",
    "    receipt = w3.eth.waitForTransactionReceipt(tx_hash)\n",
    "    return receipt"
   ]
  },
  {
   "cell_type": "code",
   "execution_count": 8,
   "metadata": {},
   "outputs": [],
   "source": [
    "def getLatestVendor():\n",
    "    ipfs_hash = fm_contract.functions.getLatestVendor().call()\n",
    "    message = requests.get(f\"https://cloudflare-ipfs.com/ipfs/{ipfs_hash}\")\n",
    "    return message.json()"
   ]
  },
  {
   "cell_type": "code",
   "execution_count": 9,
   "metadata": {},
   "outputs": [],
   "source": [
    "def getVendorByID(vendor_id):\n",
    "    ipfs_hash = fm_contract.functions.vendors(vendor_id).call()\n",
    "    message = requests.get(f\"https://cloudflare-ipfs.com/ipfs/{ipfs_hash}\")\n",
    "    return message.json()"
   ]
  },
  {
   "cell_type": "code",
   "execution_count": 10,
   "metadata": {},
   "outputs": [
    {
     "name": "stdin",
     "output_type": "stream",
     "text": [
      "Would you like to get or add a vendor? get\n",
      "Enter a vendor ID to retive the vendor. Hit enter to get the latest. \n"
     ]
    },
    {
     "name": "stdout",
     "output_type": "stream",
     "text": [
      "{'name': 'houston', 'phone': '7130000000'}\n"
     ]
    }
   ],
   "source": [
    "option = input(\"Would you like to get or add a vendor?\")\n",
    "\n",
    "if option == \"add\":\n",
    "    vendor_address = \"0x1178d2924a873C256B430b1751B43258d7BCE6CE\"\n",
    "    register_vendor(vendor_address)\n",
    "\n",
    "if option == \"get\":\n",
    "    vendor_id = input(\"Enter a vendor ID to retive the vendor. Hit enter to get the latest.\")\n",
    "\n",
    "    if (vendor_id):\n",
    "        print(getVendorByID(int(vendor_id)))\n",
    "    else:\n",
    "        print(getLatestVendor())"
   ]
  },
  {
   "cell_type": "code",
   "execution_count": null,
   "metadata": {},
   "outputs": [],
   "source": []
  }
 ],
 "metadata": {
  "kernelspec": {
   "display_name": "Python 3",
   "language": "python",
   "name": "python3"
  },
  "language_info": {
   "codemirror_mode": {
    "name": "ipython",
    "version": 3
   },
   "file_extension": ".py",
   "mimetype": "text/x-python",
   "name": "python",
   "nbconvert_exporter": "python",
   "pygments_lexer": "ipython3",
   "version": "3.7.7"
  }
 },
 "nbformat": 4,
 "nbformat_minor": 4
}
